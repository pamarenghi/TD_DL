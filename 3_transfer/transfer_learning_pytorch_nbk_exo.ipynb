{
 "cells": [
  {
   "cell_type": "markdown",
   "metadata": {},
   "source": [
    "### Apprentissage profond - TD n°3\n",
    "__________\n",
    "Transfert d'apprentissage (transfer learning)"
   ]
  },
  {
   "cell_type": "code",
   "execution_count": null,
   "metadata": {},
   "outputs": [],
   "source": [
    "# imports \n",
    "import torch\n",
    "import numpy as np\n",
    "from sklearn.model_selection import train_test_split\n",
    "import sys\n",
    "from torchvision import datasets, transforms, models\n",
    "import torch.nn as nn\n",
    "import torch.optim as optim\n",
    "import os\n",
    "import matplotlib.pyplot as plt\n",
    "from PIL import Image\n"
   ]
  },
  {
   "cell_type": "markdown",
   "metadata": {},
   "source": [
    "### 1. Introduction\n",
    "\n",
    "__Modélisation__\n",
    "\n",
    "On considère un problème d'apprentissage de logos (6 logos de marques de bière, en environnement réel). \n",
    "Comment modéliser le problème si : \n",
    "- a. on suppose qu'il n'y a qu'un seul logo par image ? \n",
    "- b. si on veut pouvoir reconnaître la présence de plusieurs logos par image ? "
   ]
  },
  {
   "cell_type": "markdown",
   "metadata": {},
   "source": [
    "### 2. __Préparation des données__\n",
    "\n",
    "__Chargement__\n",
    "\n",
    "Les données sont disponibles sur [GoogleDrive](https://drive.usercontent.google.com/download?id=1ec2n18lbI71c0IS7RoixzAe3D67nlEgE&export=download). \n",
    "\n",
    "Les images sont groupées par classes (un dossier = une classe). Cela nous permet d'utiliser la fonction `datasets.ImageFolder` de PyTorch afin de charger les données (cf TPs précédents utilisation d'un DataLoader). "
   ]
  },
  {
   "cell_type": "code",
   "execution_count": null,
   "metadata": {},
   "outputs": [],
   "source": [
    "# on lit une première fois les images du dataset\n",
    "# TODO adapter le path selon l'endroit où sont stockées les données\n",
    "image_directory = \"TODO\"\n",
    "\n",
    "print(os.listdir(image_directory))\n"
   ]
  },
  {
   "cell_type": "markdown",
   "metadata": {},
   "source": [
    "__Normalisation__\n",
    "\n",
    "Dans la suite, on va utiliser un modèle pré-entrainé sur le dataset ImageNet-1k (aussi appelé ILSVRC dataset, 1000 classes tirées de ImageNet-21k, 1.2 millions d'images). On applique aux données cibles une normalisation définie à partir des statistiques calculées sur le dataset source (moyenne et écarts types des valeurs des pixels, entre 0 et 1). On applique aussi un reformatage pour obtenir des images de 224 par 224 pixels.\n",
    "\n",
    "Dataset source = ImageNet-1k / \n",
    "Dataset cible = Beers"
   ]
  },
  {
   "cell_type": "code",
   "execution_count": null,
   "metadata": {},
   "outputs": [],
   "source": [
    "# Normalisation des images pour les modèles pré-entraînés PyTorch\n",
    "# voir: https://pytorch.org/docs/stable/torchvision/models.html\n",
    "# et ici pour les « explications » sur les valeurs exactes: https://github.com/pytorch/vision/issues/1439\n",
    "mean = np.array([0.485, 0.456, 0.406])\n",
    "std = np.array([0.229, 0.224, 0.225])\n",
    "\n",
    "data_transforms = transforms.Compose([\n",
    "    transforms.Resize([224, 224]),\n",
    "    transforms.ToTensor(),\n",
    "    transforms.Normalize(mean=mean, std=std)\n",
    "])\n",
    "\n",
    "# première lecture des données\n",
    "dataset_full = datasets.ImageFolder(image_directory, data_transforms)\n",
    "print(len(dataset_full))"
   ]
  },
  {
   "cell_type": "markdown",
   "metadata": {},
   "source": [
    "__Motivation__\n",
    "\n",
    "On dispose seulement de 420 images réparties en 6 classes ! Pas suffisant pour entrainer un réseau de neurones profond de plusieurs millions de paramètres... D'où l'intérêt d'utiliser les poids d'un modèle déjà entrainé sur un autre dataset de plus grande taille. "
   ]
  },
  {
   "cell_type": "code",
   "execution_count": null,
   "metadata": {},
   "outputs": [],
   "source": [
    "# some useful info\n",
    "print(\"Classes :\", dataset_full.classes)\n",
    "print(\"Mapping class to index :\", dataset_full.class_to_idx)\n",
    "print(dataset_full.samples[0])"
   ]
  },
  {
   "cell_type": "code",
   "execution_count": null,
   "metadata": {},
   "outputs": [],
   "source": [
    "# viz\n",
    "for ii in range(3) : \n",
    "    img_path, label = dataset_full.samples[ii]\n",
    "    with Image.open(img_path) as img:    \n",
    "        img.show()"
   ]
  },
  {
   "cell_type": "markdown",
   "metadata": {},
   "source": [
    "__Partage des données__ \n",
    "\n",
    "Pour cela, utiliser la fonction [`train_test_split`](https://scikit-learn.org/stable/modules/generated/sklearn.model_selection.train_test_split.html#sklearn.model_selection.train_test_split) de scikit-learn) avec les proportions suivantes :\n",
    "- train = 60 % \n",
    "- val = 15 %\n",
    "- test = 25 %"
   ]
  },
  {
   "cell_type": "code",
   "execution_count": null,
   "metadata": {},
   "outputs": [],
   "source": [
    "# on split en train, val et test à partir de la liste complète\n",
    "np.random.seed(42)\n",
    "samples_train, samples_test = train_test_split(TODO) # train+val vs test\n",
    "samples_train, samples_val = train_test_split(TODO) # train vs val, 15/75 = 0.2\n",
    "\n",
    "print(\"Nombre d'images de train : %i\" % len(samples_train))\n",
    "print(\"Nombre d'images de val : %i\" % len(samples_val))\n",
    "print(\"Nombre d'images de test : %i\" % len(samples_test))"
   ]
  },
  {
   "cell_type": "markdown",
   "metadata": {},
   "source": [
    "On définit un `DataLoader` pour chacun des sous-ensembles de données. \n"
   ]
  },
  {
   "cell_type": "code",
   "execution_count": null,
   "metadata": {},
   "outputs": [],
   "source": [
    "# on définit les datasets et loaders pytorch à partir des listes d'images de train / val / test\n",
    "\n",
    "dataset_train = datasets.ImageFolder(image_directory, data_transforms)\n",
    "dataset_train.samples = samples_train\n",
    "dataset_train.imgs = samples_train\n",
    "loader_train = torch.utils.data.DataLoader(dataset_train, batch_size=32, \n",
    "                                           shuffle=True, num_workers=4)\n",
    "\n",
    "dataset_val = datasets.ImageFolder(image_directory, data_transforms)\n",
    "dataset_val.samples = samples_val\n",
    "dataset_val.imgs = samples_val\n",
    "\n",
    "dataset_test = datasets.ImageFolder(image_directory, data_transforms)\n",
    "dataset_test.samples = samples_test\n",
    "dataset_test.imgs = samples_test"
   ]
  },
  {
   "cell_type": "markdown",
   "metadata": {},
   "source": [
    "Vérification : toutes les classes doivent être représentées dans le jeu de données d'entrainement."
   ]
  },
  {
   "cell_type": "code",
   "execution_count": null,
   "metadata": {},
   "outputs": [],
   "source": [
    "# détermination du nombre de classes (nb_classes=6)\n",
    "# vérification que les labels sont bien dans [0, nb_classes]\n",
    "labels=[x[1] for x in samples_train]\n",
    "if np.min(labels) != 0:\n",
    "    print(\"Error: labels should start at 0 (min is %i)\" % np.min(labels))\n",
    "    sys.exit(-1)\n",
    "if np.max(labels) != (len(np.unique(labels))-1):\n",
    "    print(\"Error: labels should go from 0 to Nclasses (max label = {}; Nclasse = {})\".format(np.max(labels),len(np.unique(labels)))  )\n",
    "    sys.exit(-1)\n",
    "nb_classes = np.max(labels)+1\n",
    "# nb_classes = len(dataset_train.classes)\n",
    "print(\"Apprentissage sur {} classes\".format(nb_classes))\n"
   ]
  },
  {
   "cell_type": "markdown",
   "metadata": {},
   "source": [
    "*Reproductibilité et sources d'aléatoire*\n",
    "\n",
    "A votre avis, où se situent les sources d'aléatoire lorsque vous entrainez un réseau de neurones avec un framework d'apprentissage profond (PyTorch / TensorFlow) ? Y-a-t-il des sources d'aléatoire à l'inférence ? \n",
    "\n",
    "Liens utiles : [documentation pytorch](https://pytorch.org/docs/stable/notes/randomness.html), [un exemple chez Weight&Biases](https://wandb.ai/sauravmaheshkar/RSNA-MICCAI/reports/How-to-Set-Random-Seeds-in-PyTorch-and-Tensorflow--VmlldzoxMDA2MDQy)"
   ]
  },
  {
   "cell_type": "code",
   "execution_count": null,
   "metadata": {},
   "outputs": [],
   "source": [
    "torch.manual_seed(42)"
   ]
  },
  {
   "cell_type": "markdown",
   "metadata": {},
   "source": [
    "__Chargement d'un modèle pré-entrainé__\n",
    "\n",
    "Ici on utilise un réseau convolutif de type ResNet18, pré-entrainé sur ImageNet-1k. \n",
    "NB : jeter un oeil aux [modèles disponibles via pytorch](https://pytorch.org/vision/stable/models.html). Pour les architecures à base de transformers, de nombreux modèles sont aussi disponibles via le hub et les librairies [huggingface](https://huggingface.co/models)."
   ]
  },
  {
   "cell_type": "code",
   "execution_count": null,
   "metadata": {},
   "outputs": [],
   "source": [
    "# Récupérer un réseau pré-entraîné (resnet-18)\n",
    "print(\"Récupération du ResNet-18 pré-entraîné...\")\n",
    "my_net = models.resnet18(weights='ResNet18_Weights.IMAGENET1K_V1') \n",
    "\n",
    "# The parameter 'pretrained' is deprecated since 0.13 and may be removed in the future, please use 'weights' instead.\n",
    "# The current behavior is equivalent to passing `weights=ResNet18_Weights.IMAGENET1K_V1`. \n",
    "# You can also use `weights=ResNet18_Weights.DEFAULT` to get the most up-to-date weights.\n"
   ]
  },
  {
   "cell_type": "code",
   "execution_count": null,
   "metadata": {},
   "outputs": [],
   "source": [
    "# architecture\n",
    "print(my_net)"
   ]
  },
  {
   "cell_type": "markdown",
   "metadata": {},
   "source": [
    "Quelle est la taille de sortie de l'extracteur de features ?"
   ]
  },
  {
   "cell_type": "markdown",
   "metadata": {},
   "source": [
    "### 3. Transfert d'apprentissage\n",
    "\n",
    "Dans le cadre du transfert d'apprentissage, *on n'optimise pas les poids du réseau pr-entrainé sur nos données cibles*. On remplace simplement la couche de classification du réseau pré-entrainé par une nouvelle couche de classification, avec une taille adaptée au nombre de classes de notre problème. \n",
    "\n",
    "Pour apprendre à classer les images du dataset cible, on fige les poids du réseau pré-entrainé (partie \"extraction de caractéristiques\" / *feature extractor*) et on optimise les poids de la nouvelle couche de classification (partie \"décision\", une couche linéaire ici)."
   ]
  },
  {
   "cell_type": "code",
   "execution_count": null,
   "metadata": {},
   "outputs": [],
   "source": [
    "# on indique qu'il est inutile de calculer les gradients des paramètres du réseau\n",
    "for param in my_net.parameters():\n",
    "    param.requires_grad = False\n"
   ]
  },
  {
   "cell_type": "code",
   "execution_count": null,
   "metadata": {},
   "outputs": [],
   "source": [
    "# on remplace la dernière couche fully connected à 1000 sorties (classes d'ImageNet) par une fully connected à 6 sorties (nos classes).\n",
    "# par défaut, les gradients des paramètres cette couche seront bien calculés\n",
    "#  NB: par défaut, la couche réinitialisée a .requires_grad=True\n",
    "my_net.fc = nn.Linear(in_features=TODO, out_features=TODO, bias=True)\n",
    "# on pourrait aussi réinitaliser d'autres couches e.g. my_net.layer4[1].conv2\n"
   ]
  },
  {
   "cell_type": "code",
   "execution_count": null,
   "metadata": {},
   "outputs": [],
   "source": [
    "# on utilisera le GPU (beaucoup plus rapide) si disponible, sinon on utilisera le CPU\n",
    "device = torch.device(\"cuda:0\" if torch.cuda.is_available() else \"cpu\")\n",
    "#device = torch.device(\"cpu\") # forcer en CPU s'il y a des problèmes de mémoire GPU (+ être patient...)\n"
   ]
  },
  {
   "cell_type": "code",
   "execution_count": null,
   "metadata": {},
   "outputs": [],
   "source": [
    "my_net.to(device) # on utilise le GPU / CPU en fonction de ce qui est disponible"
   ]
  },
  {
   "cell_type": "markdown",
   "metadata": {},
   "source": [
    "__Entrainement et évaluation__\n",
    "\n",
    "On donne une fonction d'entrainement et une fonction d'évaluation (cf TPs précédents)."
   ]
  },
  {
   "cell_type": "code",
   "execution_count": null,
   "metadata": {},
   "outputs": [],
   "source": [
    "# on définit une fonction d'évaluation\n",
    "def evaluate(model, dataset, criterion):\n",
    "    avg_loss = 0.\n",
    "    avg_accuracy = 0\n",
    "    loader = torch.utils.data.DataLoader(dataset, batch_size=16, shuffle=False, num_workers=2)\n",
    "    for data in loader:\n",
    "        inputs, labels = data\n",
    "        inputs, labels = inputs.to(device), labels.to(device)\n",
    "        outputs = model(inputs)\n",
    "        \n",
    "        loss = criterion(outputs, labels)\n",
    "        _, preds = torch.max(outputs, 1)\n",
    "        n_correct = torch.sum(preds == labels)\n",
    "        \n",
    "        avg_loss += loss.item()\n",
    "        avg_accuracy += n_correct\n",
    "        \n",
    "    return avg_loss / len(dataset), float(avg_accuracy) / len(dataset)\n"
   ]
  },
  {
   "cell_type": "code",
   "execution_count": null,
   "metadata": {},
   "outputs": [],
   "source": [
    "# fonction classique d'entraînement d'un modèle, voir TDs précédents\n",
    "PRINT_LOSS = True\n",
    "def train_model(model, loader_train, data_val, optimizer, criterion, n_epochs=10):\n",
    "    for epoch in range(n_epochs): # à chaque epochs\n",
    "        print(\"EPOCH % i\" % epoch)\n",
    "        for i, data in enumerate(loader_train): # itère sur les minibatchs via le loader apprentissage\n",
    "            inputs, labels = data\n",
    "            inputs, labels = inputs.to(device), labels.to(device) # on passe les données sur CPU / GPU\n",
    "            optimizer.zero_grad() # on réinitialise les gradients\n",
    "            outputs = model(inputs) # on calcule l'output\n",
    "            \n",
    "            loss = criterion(outputs, labels) # on calcule la loss\n",
    "            if PRINT_LOSS:\n",
    "                model.train(False)\n",
    "                loss_val, accuracy = evaluate(my_net, data_val, criterion)\n",
    "                model.train(True)\n",
    "                print(\"{} loss train: {:1.4f}\\t val {:1.4f}\\tAcc (val): {:.1%}\".format(i, loss.item(), loss_val, accuracy   ))\n",
    "            \n",
    "            loss.backward() # on effectue la backprop pour calculer les gradients\n",
    "            optimizer.step() # on update les gradients en fonction des paramètres\n"
   ]
  },
  {
   "cell_type": "markdown",
   "metadata": {},
   "source": [
    "On définit une fonction de coût et un optimiseur. On utilise un faible taux d'apprentissage (learning rate fixé à 0.001) car on n'a besoin que d'optimiser la dernière couche du réseau."
   ]
  },
  {
   "cell_type": "code",
   "execution_count": null,
   "metadata": {},
   "outputs": [],
   "source": [
    "criterion = TODO\n",
    "optimizer = optim.SGD(TODO, lr=0.001, momentum=0.9)"
   ]
  },
  {
   "cell_type": "code",
   "execution_count": null,
   "metadata": {},
   "outputs": [],
   "source": [
    "my_net.train(True) # NB : pas indispensable ici comme on a fixé la partie extraction de features, \n",
    "# mais bonne pratique de façon générale\n",
    "# permet notamment d'activer / désactiver le dropout selon qu'on entraîne ou teste le modèle\n",
    "print(\"\\nApprentissage en transfer learning\")\n",
    "\n",
    "train_model(my_net, loader_train, dataset_val, optimizer, criterion, n_epochs=10)\n"
   ]
  },
  {
   "cell_type": "code",
   "execution_count": null,
   "metadata": {},
   "outputs": [],
   "source": [
    "# évaluation\n",
    "my_net.train(False)\n",
    "loss, accuracy = evaluate(my_net, dataset_test, criterion)\n",
    "print(\"Accuracy (test): %.1f%%\" % (100 * accuracy))\n"
   ]
  },
  {
   "cell_type": "markdown",
   "metadata": {},
   "source": [
    "### 4. Adaptation fine des poids du réseau (*fine-tuning*)\n",
    "\n",
    "On réinitialise le réseau. Cette fois-ci, on va en utiliser les images de notre dataset cible pour mettre à jour (en totalité ou en partie) les paramètres du modèle dans les couches antérieures à la couche de décision. "
   ]
  },
  {
   "cell_type": "code",
   "execution_count": null,
   "metadata": {},
   "outputs": [],
   "source": [
    "# on réinitialise le modèle resnet\n",
    "my_net = models.resnet18(weights='ResNet18_Weights.IMAGENET1K_V1') \n",
    "\n",
    "my_net.fc = nn.Linear(in_features=TODO, out_features=TODO, bias=True)\n",
    "my_net.to(device)\n",
    "\n",
    "# cette fois on veut mettre à jour tous les paramètres\n",
    "params_to_update = TODO"
   ]
  },
  {
   "cell_type": "markdown",
   "metadata": {},
   "source": [
    "Remarque :  il est possible de ne sélectionner que quelques couches (plutôt parmi les \"dernières\", les plus proches de la couche de classificaiton et du calcul de la fonction de coût)."
   ]
  },
  {
   "cell_type": "code",
   "execution_count": null,
   "metadata": {},
   "outputs": [],
   "source": [
    "# ici on restreint les couches dont on veut mettre à jour les paramètres\n",
    "\n",
    "list_of_layers_to_finetune=['fc.weight','fc.bias','layer4.1.conv2.weight','layer4.1.bn2. bias','layer4.1.bn2.weight']\n",
    "\n",
    "params_to_update=[]\n",
    "for name,param in my_net.named_parameters():\n",
    "    if name in list_of_layers_to_finetune:\n",
    "        print(\"fine tune \",name)\n",
    "        params_to_update.append(param)\n",
    "        param.requires_grad = True\n",
    "    else:\n",
    "        param.requires_grad = False\n",
    "\n",
    "# sanity check \n",
    "print(\"Couches mises à jour :\")\n",
    "for name, param in my_net.named_parameters() : \n",
    "    if param.requires_grad :\n",
    "        print(name)\n"
   ]
  },
  {
   "cell_type": "markdown",
   "metadata": {},
   "source": [
    "On utilise un taux d'apprentissage relativement bas, on ne veut pas modifier brutalement les poids du réseau."
   ]
  },
  {
   "cell_type": "code",
   "execution_count": null,
   "metadata": {},
   "outputs": [],
   "source": [
    "# définition de la fonction de coût et de l'optimiseur \n",
    "criterion = TODO\n",
    "optimizer = optim.SGD(TODO, lr=0.001, momentum=0.9)\n"
   ]
  },
  {
   "cell_type": "code",
   "execution_count": null,
   "metadata": {},
   "outputs": [],
   "source": [
    "# on ré-entraîne\n",
    "print(\"Apprentissage avec fine-tuning\")\n",
    "my_net.train(True)\n",
    "torch.manual_seed(42)\n",
    "train_model(my_net, loader_train, dataset_val, optimizer, criterion, n_epochs=10)\n"
   ]
  },
  {
   "cell_type": "code",
   "execution_count": null,
   "metadata": {},
   "outputs": [],
   "source": [
    "# on ré-évalue les performances\n",
    "my_net.train(False)\n",
    "loss, accuracy = evaluate(my_net, dataset_test, criterion)\n",
    "print(\"Accuracy (test): %.1f%%\" % (100 * accuracy))\n"
   ]
  },
  {
   "cell_type": "markdown",
   "metadata": {},
   "source": [
    "### 5. Autre architecture \n",
    "\n",
    "On a utilisé un réseau de type ResNet18 avec 10M de paramètres. Ici on se propose d'utiliser une architecture plus compacte : MobileNetv2 (), qui comporte 2.3M de paramètres. Comparer les architectures. "
   ]
  },
  {
   "cell_type": "code",
   "execution_count": null,
   "metadata": {},
   "outputs": [],
   "source": [
    "# on définit un réseau avec une nouvelle architecture\n",
    "my_net = models.mobilenet_v2(weights='MobileNet_V2_Weights.IMAGENET1K_V1')\n",
    "print(my_net)\n"
   ]
  },
  {
   "cell_type": "code",
   "execution_count": null,
   "metadata": {},
   "outputs": [],
   "source": [
    "print(sum(p.numel() for p in my_net.parameters()))\n",
    "print(sum(p.numel() for p in my_net.parameters() if p.requires_grad))"
   ]
  },
  {
   "cell_type": "markdown",
   "metadata": {},
   "source": [
    "On note que cette architecture ne comporte pas de module `fc` accessible directement comme pour ResNet18 dans la partie précédente. La structure est `features` puis `classifier`."
   ]
  },
  {
   "cell_type": "code",
   "execution_count": null,
   "metadata": {},
   "outputs": [],
   "source": [
    "# remplacement de la couche de classification\n",
    "my_net.classifier[1] = nn.Linear(in_features=my_net.classifier[1].in_features, out_features=nb_classes, bias=True)\n",
    "my_net.to(device)\n",
    "\n",
    "# mise à jour de tous les paramètres\n",
    "params_to_update = my_net.parameters()\n",
    "\n",
    "# définition de la fonction de coût et de l'optimiseur \n",
    "criterion = nn.CrossEntropyLoss()\n",
    "optimizer = optim.SGD(params_to_update, lr=0.001, momentum=0.9)\n",
    "\n",
    "# entrainement\n",
    "print(\"Apprentissage avec fine-tuning\\n\")\n",
    "my_net.train(True)\n",
    "torch.manual_seed(42)\n",
    "train_model(my_net, loader_train, dataset_val, optimizer, criterion, n_epochs=10)\n",
    "\n",
    "# évaluation des performances\n",
    "my_net.train(False)\n",
    "loss, accuracy = evaluate(my_net, dataset_test, criterion)\n",
    "print(\"\\nAccuracy (test): %.1f%%\" % (100 * accuracy))\n"
   ]
  },
  {
   "cell_type": "markdown",
   "metadata": {},
   "source": [
    "### 6. Bonus : modélisation multi-labels\n",
    "\n",
    "En conservant l’hypothèse de classes exclusive (qui est fausse en pratique mais facilite l’annotation) il est néanmoins possible d’apprendre un modèle multi-labels, où chaque classe est reconnue indépendamment. C’est ce qui est proposé dans le programme `transfer_learning_pytorch_multilabel.py`.\n",
    "\n",
    "Points d'attentions : \n",
    "- ici on ne refait pas la labelisation des données, mais on modifie la manière d'entrainer le réseau \n",
    "\n",
    "- définition de la fonction de coût \n",
    "> criterion = nn.BCEWithLogitsLoss()\n",
    "\n",
    "- seuil par défaut pour attribuer un label : 0.5\n",
    "\n",
    "- possibilité de déterminer un seuil de décision pour chacune des classes en se basant sur le dataset de validation."
   ]
  },
  {
   "cell_type": "code",
   "execution_count": null,
   "metadata": {},
   "outputs": [],
   "source": [
    "# on redéfinit la fonction d'évaluation\n",
    "# one-hot encoding des labels pour calculer la BCELoss\n",
    "# pour l'accuracy, comme on ne dispose pas de la vérité terrain pour le cas multilabel, \n",
    "# on se rapporte au cas précédent avec un seul label. \n",
    " \n",
    "def evaluate(model, dataset):\n",
    "    avg_loss = 0.\n",
    "    avg_accuracy = 0\n",
    "    loader = torch.utils.data.DataLoader(dataset, batch_size=32, shuffle=False, num_workers=2)\n",
    "    for data in loader:\n",
    "        inputs, labels = data\n",
    "        oh_labels = torch.nn.functional.one_hot(labels) \n",
    "        oh_labels = oh_labels.type(torch.FloatTensor)\n",
    "        inputs, oh_labels = inputs.to(device), oh_labels.to(device)\n",
    "        outputs = model(inputs)\n",
    "        \n",
    "        loss = criterion(outputs, oh_labels)\n",
    "        _, preds = torch.max(outputs, 1) \n",
    "        n_correct = torch.sum(preds.to(\"cpu\") == labels)\n",
    "        # autre méthode\n",
    "        # pred = outputs.argmax(dim=1, keepdim=True)\n",
    "        # gt = oh_labels.argmax(dim=1, keepdim=True)\n",
    "        # n_correct = pred.eq(gt.view_as(pred)).sum().item()\n",
    "\n",
    "        avg_loss += loss.item()\n",
    "        avg_accuracy += n_correct\n",
    "        \n",
    "    return avg_loss / len(dataset), float(avg_accuracy) / len(dataset)\n"
   ]
  },
  {
   "cell_type": "code",
   "execution_count": null,
   "metadata": {},
   "outputs": [],
   "source": [
    "# exemple avec mobilenet v2\n",
    "my_net = models.mobilenet_v2(weights='MobileNet_V2_Weights.IMAGENET1K_V1')\n",
    "my_net.classifier[1] = nn.Linear(in_features=my_net.classifier[1].in_features, out_features=nb_classes, bias=True)\n",
    "my_net.to(device)\n",
    "\n",
    "# mise à jour de tous les paramètres\n",
    "params_to_update = my_net.parameters()\n",
    "\n",
    "# définition de la fonction de coût et de l'optimiseur \n",
    "criterion = nn.BCEWithLogitsLoss()\n",
    "optimizer = optim.SGD(params_to_update, lr=0.001, momentum=0.9)\n",
    "\n",
    "# entrainement\n",
    "print(\"Apprentissage avec fine-tuning\")\n",
    "my_net.train(True)\n",
    "torch.manual_seed(42)\n",
    "train_model(my_net, loader_train, dataset_val, optimizer, criterion, n_epochs=10)\n",
    "\n",
    "# évaluation des performances\n",
    "my_net.train(False)\n",
    "loss, accuracy = evaluate(my_net, dataset_test, criterion)\n",
    "print(\"Accuracy (test): %.1f%%\" % (100 * accuracy))\n"
   ]
  },
  {
   "cell_type": "markdown",
   "metadata": {},
   "source": [
    "Pour aller plus loin : quel pourcentage d'images comporte au moins 2 logos de marques différentes selon le modèle ? comment choisir des seuils de décision adaptés à chacune des classes ? "
   ]
  }
 ],
 "metadata": {
  "kernelspec": {
   "display_name": "base",
   "language": "python",
   "name": "python3"
  },
  "language_info": {
   "codemirror_mode": {
    "name": "ipython",
    "version": 3
   },
   "file_extension": ".py",
   "mimetype": "text/x-python",
   "name": "python",
   "nbconvert_exporter": "python",
   "pygments_lexer": "ipython3",
   "version": "3.12.3"
  }
 },
 "nbformat": 4,
 "nbformat_minor": 2
}
